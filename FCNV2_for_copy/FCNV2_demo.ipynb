{
 "cells": [
  {
   "cell_type": "markdown",
   "metadata": {
    "id": "rqZ4SVWKB02A"
   },
   "source": [
    "# FourCastNet v2 colab 教學版 \n",
    "\n",
    "## 在colab中模擬虛擬環境 (請使用google中的colab)"
   ]
  },
  {
   "cell_type": "code",
   "execution_count": null,
   "metadata": {
    "id": "TmAJCw-b1gv4"
   },
   "outputs": [],
   "source": [
    "import sys\n",
    "sys.path.append('/usr/local/envs/FCNV2/bin')  # 將 FCNV2 替換為你的虛擬環境名稱\n",
    "!python -m ipykernel install --user --name=FCNV2 --display-name=\"Python (FCNV2)\"\n"
   ]
  },
  {
   "cell_type": "markdown",
   "metadata": {
    "id": "BpBt_s6fCMzu"
   },
   "source": [
    "## 完成後須變更環境及GPU資源\n",
    "#### 請沿以下路徑進行更改\n",
    "#### [執行階段]>[變更執行階段類型]>[FCNV2] && [GPU]"
   ]
  },
  {
   "cell_type": "markdown",
   "metadata": {
    "id": "qKriyXUuCZWw"
   },
   "source": [
    "## 需查看python 版本\n",
    "##### 若不為3.10版需重新喚回"
   ]
  },
  {
   "cell_type": "code",
   "execution_count": null,
   "metadata": {
    "colab": {
     "base_uri": "https://localhost:8080/"
    },
    "executionInfo": {
     "elapsed": 345,
     "status": "ok",
     "timestamp": 1731404360669,
     "user": {
      "displayName": "鄭詠云",
      "userId": "03334864596938679832"
     },
     "user_tz": -480
    },
    "id": "sx-ll1BHTO44",
    "outputId": "40cb4c65-c2fb-42d1-c070-52fa9af22b9d"
   },
   "outputs": [
    {
     "name": "stdout",
     "output_type": "stream",
     "text": [
      "Python 3.10.12\n"
     ]
    }
   ],
   "source": [
    "# 查看版本是否為python 3.10\n",
    "!python -V\n",
    "# 鎖版本python3.10\n",
    "# !sudo apt-get update\n",
    "# !sudo apt-get install python3.10\n",
    "# !sudo update-alternatives --install /usr/bin/python3 python3 /usr/bin/python3.10 1\n",
    "# !sudo update-alternatives --config python3\n",
    "# !python -V"
   ]
  },
  {
   "cell_type": "markdown",
   "metadata": {
    "id": "PQ7GoP1oCs3m"
   },
   "source": [
    "## download AI_global_model_for_education and FCNv2 weight\n",
    "\n",
    "*  step1: 連到自己的google雲端(方便拿取輸出結果)\n",
    "*  step2: git clone下載AI_global_model_for_education\n",
    "*  step3: 下載FCNV2 模型權重變數\n",
    "*  step4: 解壓縮並完成前置作業\n",
    "\n",
    "\n",
    "\n"
   ]
  },
  {
   "cell_type": "code",
   "execution_count": null,
   "metadata": {
    "colab": {
     "base_uri": "https://localhost:8080/"
    },
    "executionInfo": {
     "elapsed": 90893,
     "status": "ok",
     "timestamp": 1731404453306,
     "user": {
      "displayName": "鄭詠云",
      "userId": "03334864596938679832"
     },
     "user_tz": -480
    },
    "id": "zZ689ecHzEpS",
    "outputId": "94fcb006-fbd5-4f26-c0b1-a56d4053421f"
   },
   "outputs": [
    {
     "name": "stdout",
     "output_type": "stream",
     "text": [
      "Mounted at /content/drive\n",
      "Cloning into 'AI_global_forecast_model_for_education'...\n",
      "remote: Enumerating objects: 286, done.\u001b[K\n",
      "remote: Counting objects: 100% (286/286), done.\u001b[K\n",
      "remote: Compressing objects: 100% (207/207), done.\u001b[K\n",
      "remote: Total 286 (delta 115), reused 241 (delta 71), pack-reused 0 (from 0)\u001b[K\n",
      "Receiving objects: 100% (286/286), 5.49 MiB | 7.73 MiB/s, done.\n",
      "Resolving deltas: 100% (115/115), done.\n",
      "/content/AI_global_forecast_model_for_education/FCNV2_for_copy\n",
      "--2024-11-12 09:39:48--  https://api.ngc.nvidia.com/v2/models/nvidia/modulus/modulus_fcnv2_sm/versions/v0.2/files/fcnv2_sm.zip\n",
      "Resolving api.ngc.nvidia.com (api.ngc.nvidia.com)... 52.40.141.214, 52.88.104.159\n",
      "Connecting to api.ngc.nvidia.com (api.ngc.nvidia.com)|52.40.141.214|:443... connected.\n",
      "HTTP request sent, awaiting response... 302 Found\n",
      "Location: https://xfiles.ngc.nvidia.com/org/nvidia/team/modulus/models/modulus_fcnv2_sm/versions/v0.2/files/fcnv2_sm.zip?versionId=zQQpeu8EadI5maVMxR9C7cZMwPmdhy8d&Expires=1731490789&Signature=m50IQzI44CCNFexNQB~k9bLtB0JCieKgYsnT7WPJ0SPTSozInt8HvBEn3A1ng-QHtxp7GCDVSxdV2S2irxnTG2p95boUcKqTr-jJmDv1Gz8q9hnj54j3OQ0~7X7h9tp4PxiZfViifBxJJNncFZDWjZj~PgNOOghK3q9zi0GatKsHi6ytEp3wG0ZzFwP9-dpWaYyWWJdwHFlKhQmW6LRLry7P3GagoJiyKjfM84E~bHrhScsRPK9vRiERbeKQJCFZ5ATgZ~9S~k3RAheZ8qf~e5D62-7P7iRBjCI16NNq10BnoQsWW6xkiek40VFODNM3QsROkFvJghKpfhwKaYiofw__&Key-Pair-Id=KCX06E8E9L60W [following]\n",
      "--2024-11-12 09:39:49--  https://xfiles.ngc.nvidia.com/org/nvidia/team/modulus/models/modulus_fcnv2_sm/versions/v0.2/files/fcnv2_sm.zip?versionId=zQQpeu8EadI5maVMxR9C7cZMwPmdhy8d&Expires=1731490789&Signature=m50IQzI44CCNFexNQB~k9bLtB0JCieKgYsnT7WPJ0SPTSozInt8HvBEn3A1ng-QHtxp7GCDVSxdV2S2irxnTG2p95boUcKqTr-jJmDv1Gz8q9hnj54j3OQ0~7X7h9tp4PxiZfViifBxJJNncFZDWjZj~PgNOOghK3q9zi0GatKsHi6ytEp3wG0ZzFwP9-dpWaYyWWJdwHFlKhQmW6LRLry7P3GagoJiyKjfM84E~bHrhScsRPK9vRiERbeKQJCFZ5ATgZ~9S~k3RAheZ8qf~e5D62-7P7iRBjCI16NNq10BnoQsWW6xkiek40VFODNM3QsROkFvJghKpfhwKaYiofw__&Key-Pair-Id=KCX06E8E9L60W\n",
      "Resolving xfiles.ngc.nvidia.com (xfiles.ngc.nvidia.com)... 13.226.210.24, 13.226.210.123, 13.226.210.105, ...\n",
      "Connecting to xfiles.ngc.nvidia.com (xfiles.ngc.nvidia.com)|13.226.210.24|:443... connected.\n",
      "HTTP request sent, awaiting response... 200 OK\n",
      "Length: 3149533874 (2.9G) [binary/octet-stream]\n",
      "Saving to: ‘fcnv2_sm.zip’\n",
      "\n",
      "fcnv2_sm.zip        100%[===================>]   2.93G   105MB/s    in 19s     \n",
      "\n",
      "2024-11-12 09:40:08 (156 MB/s) - ‘fcnv2_sm.zip’ saved [3149533874/3149533874]\n",
      "\n",
      "Archive:  fcnv2_sm.zip\n",
      "   creating: fcnv2_sm/\n",
      "  inflating: fcnv2_sm/global_means.npy  \n",
      "  inflating: fcnv2_sm/global_stds.npy  \n",
      "  inflating: fcnv2_sm/metadata.json  \n",
      "  inflating: fcnv2_sm/simple_inference.py  \n",
      "  inflating: fcnv2_sm/weights.tar    \n"
     ]
    }
   ],
   "source": [
    "from google.colab import drive\n",
    "drive.mount('/content/drive')\n",
    "# Step 1: download AI_global_model_for_education and FCN weight\n",
    "!git clone https://github.com/yungyun0721/AI_global_forecast_model_for_education.git\n",
    "%cd /content/AI_global_forecast_model_for_education/FCNV2_for_copy\n",
    "!wget 'https://api.ngc.nvidia.com/v2/models/nvidia/modulus/modulus_fcnv2_sm/versions/v0.2/files/fcnv2_sm.zip'\n",
    "!unzip fcnv2_sm.zip\n",
    "!mv fcnv2_sm weight\n",
    "!rm -rf fcnv2_sm.zip"
   ]
  },
  {
   "cell_type": "markdown",
   "metadata": {
    "id": "23w6x8ZgDmes"
   },
   "source": [
    "## 建置FCNV2需要的環境\n",
    "*  step1: 更新pip模組\n",
    "*  step2: 下載各種packages"
   ]
  },
  {
   "cell_type": "code",
   "execution_count": null,
   "metadata": {
    "colab": {
     "base_uri": "https://localhost:8080/"
    },
    "executionInfo": {
     "elapsed": 13623,
     "status": "ok",
     "timestamp": 1731404509779,
     "user": {
      "displayName": "鄭詠云",
      "userId": "03334864596938679832"
     },
     "user_tz": -480
    },
    "id": "aarWWuYjz8Ea",
    "outputId": "ab5dd3a6-f372-4517-f797-a906c4338262"
   },
   "outputs": [
    {
     "name": "stdout",
     "output_type": "stream",
     "text": [
      "/content/AI_global_forecast_model_for_education/FCNV2_for_copy\n",
      "Requirement already satisfied: pip in /usr/local/lib/python3.10/dist-packages (24.3.1)\n",
      "Requirement already satisfied: numpy in /usr/local/lib/python3.10/dist-packages (from -r requirements.txt (line 1)) (1.26.4)\n",
      "Requirement already satisfied: torch in /usr/local/lib/python3.10/dist-packages (from -r requirements.txt (line 2)) (2.5.0+cu121)\n",
      "Requirement already satisfied: einops in /usr/local/lib/python3.10/dist-packages (from -r requirements.txt (line 3)) (0.8.0)\n",
      "Requirement already satisfied: timm in /usr/local/lib/python3.10/dist-packages (from -r requirements.txt (line 4)) (1.0.11)\n",
      "Requirement already satisfied: xarray in /usr/local/lib/python3.10/dist-packages (from -r requirements.txt (line 5)) (2024.10.0)\n",
      "Requirement already satisfied: netcdf4==1.5.8 in /usr/local/lib/python3.10/dist-packages (from -r requirements.txt (line 6)) (1.5.8)\n",
      "Requirement already satisfied: pydap==3.4.0 in /usr/local/lib/python3.10/dist-packages (from -r requirements.txt (line 7)) (3.4.0)\n",
      "Requirement already satisfied: matplotlib==3.7.1 in /usr/local/lib/python3.10/dist-packages (from -r requirements.txt (line 9)) (3.7.1)\n",
      "Requirement already satisfied: pandas in /usr/local/lib/python3.10/dist-packages (from -r requirements.txt (line 10)) (2.2.2)\n",
      "Requirement already satisfied: importlib-metadata==4.13.0 in /usr/local/lib/python3.10/dist-packages (from -r requirements.txt (line 11)) (4.13.0)\n",
      "Requirement already satisfied: torch_harmonics==0.6.2 in /usr/local/lib/python3.10/dist-packages (from -r requirements.txt (line 12)) (0.6.2)\n",
      "Requirement already satisfied: cdsapi in /usr/local/lib/python3.10/dist-packages (from -r requirements.txt (line 13)) (0.7.4)\n",
      "Requirement already satisfied: ruamel.yaml in /usr/local/lib/python3.10/dist-packages (from -r requirements.txt (line 14)) (0.18.6)\n",
      "Requirement already satisfied: cftime in /usr/local/lib/python3.10/dist-packages (from netcdf4==1.5.8->-r requirements.txt (line 6)) (1.6.4.post1)\n",
      "Requirement already satisfied: Webob in /usr/local/lib/python3.10/dist-packages (from pydap==3.4.0->-r requirements.txt (line 7)) (1.8.9)\n",
      "Requirement already satisfied: Jinja2 in /usr/local/lib/python3.10/dist-packages (from pydap==3.4.0->-r requirements.txt (line 7)) (3.1.4)\n",
      "Requirement already satisfied: docopt in /usr/local/lib/python3.10/dist-packages (from pydap==3.4.0->-r requirements.txt (line 7)) (0.6.2)\n",
      "Requirement already satisfied: six>=1.4.0 in /usr/local/lib/python3.10/dist-packages (from pydap==3.4.0->-r requirements.txt (line 7)) (1.16.0)\n",
      "Requirement already satisfied: beautifulsoup4 in /usr/local/lib/python3.10/dist-packages (from pydap==3.4.0->-r requirements.txt (line 7)) (4.12.3)\n",
      "Requirement already satisfied: requests in /usr/local/lib/python3.10/dist-packages (from pydap==3.4.0->-r requirements.txt (line 7)) (2.32.3)\n",
      "Requirement already satisfied: contourpy>=1.0.1 in /usr/local/lib/python3.10/dist-packages (from matplotlib==3.7.1->-r requirements.txt (line 9)) (1.3.0)\n",
      "Requirement already satisfied: cycler>=0.10 in /usr/local/lib/python3.10/dist-packages (from matplotlib==3.7.1->-r requirements.txt (line 9)) (0.12.1)\n",
      "Requirement already satisfied: fonttools>=4.22.0 in /usr/local/lib/python3.10/dist-packages (from matplotlib==3.7.1->-r requirements.txt (line 9)) (4.54.1)\n",
      "Requirement already satisfied: kiwisolver>=1.0.1 in /usr/local/lib/python3.10/dist-packages (from matplotlib==3.7.1->-r requirements.txt (line 9)) (1.4.7)\n",
      "Requirement already satisfied: packaging>=20.0 in /usr/local/lib/python3.10/dist-packages (from matplotlib==3.7.1->-r requirements.txt (line 9)) (24.1)\n",
      "Requirement already satisfied: pillow>=6.2.0 in /usr/local/lib/python3.10/dist-packages (from matplotlib==3.7.1->-r requirements.txt (line 9)) (10.4.0)\n",
      "Requirement already satisfied: pyparsing>=2.3.1 in /usr/local/lib/python3.10/dist-packages (from matplotlib==3.7.1->-r requirements.txt (line 9)) (3.2.0)\n",
      "Requirement already satisfied: python-dateutil>=2.7 in /usr/local/lib/python3.10/dist-packages (from matplotlib==3.7.1->-r requirements.txt (line 9)) (2.8.2)\n",
      "Requirement already satisfied: zipp>=0.5 in /usr/local/lib/python3.10/dist-packages (from importlib-metadata==4.13.0->-r requirements.txt (line 11)) (3.20.2)\n",
      "Requirement already satisfied: filelock in /usr/local/lib/python3.10/dist-packages (from torch->-r requirements.txt (line 2)) (3.16.1)\n",
      "Requirement already satisfied: typing-extensions>=4.8.0 in /usr/local/lib/python3.10/dist-packages (from torch->-r requirements.txt (line 2)) (4.12.2)\n",
      "Requirement already satisfied: networkx in /usr/local/lib/python3.10/dist-packages (from torch->-r requirements.txt (line 2)) (3.4.2)\n",
      "Requirement already satisfied: fsspec in /usr/local/lib/python3.10/dist-packages (from torch->-r requirements.txt (line 2)) (2024.10.0)\n",
      "Requirement already satisfied: sympy==1.13.1 in /usr/local/lib/python3.10/dist-packages (from torch->-r requirements.txt (line 2)) (1.13.1)\n",
      "Requirement already satisfied: mpmath<1.4,>=1.1.0 in /usr/local/lib/python3.10/dist-packages (from sympy==1.13.1->torch->-r requirements.txt (line 2)) (1.3.0)\n",
      "Requirement already satisfied: torchvision in /usr/local/lib/python3.10/dist-packages (from timm->-r requirements.txt (line 4)) (0.20.0+cu121)\n",
      "Requirement already satisfied: pyyaml in /usr/local/lib/python3.10/dist-packages (from timm->-r requirements.txt (line 4)) (6.0.2)\n",
      "Requirement already satisfied: huggingface_hub in /usr/local/lib/python3.10/dist-packages (from timm->-r requirements.txt (line 4)) (0.24.7)\n",
      "Requirement already satisfied: safetensors in /usr/local/lib/python3.10/dist-packages (from timm->-r requirements.txt (line 4)) (0.4.5)\n",
      "Requirement already satisfied: pytz>=2020.1 in /usr/local/lib/python3.10/dist-packages (from pandas->-r requirements.txt (line 10)) (2024.2)\n",
      "Requirement already satisfied: tzdata>=2022.7 in /usr/local/lib/python3.10/dist-packages (from pandas->-r requirements.txt (line 10)) (2024.2)\n",
      "Requirement already satisfied: cads-api-client>=1.4.7 in /usr/local/lib/python3.10/dist-packages (from cdsapi->-r requirements.txt (line 13)) (1.5.2)\n",
      "Requirement already satisfied: tqdm in /usr/local/lib/python3.10/dist-packages (from cdsapi->-r requirements.txt (line 13)) (4.66.6)\n",
      "Requirement already satisfied: ruamel.yaml.clib>=0.2.7 in /usr/local/lib/python3.10/dist-packages (from ruamel.yaml->-r requirements.txt (line 14)) (0.2.12)\n",
      "Requirement already satisfied: attrs in /usr/local/lib/python3.10/dist-packages (from cads-api-client>=1.4.7->cdsapi->-r requirements.txt (line 13)) (24.2.0)\n",
      "Requirement already satisfied: multiurl>=0.3.2 in /usr/local/lib/python3.10/dist-packages (from cads-api-client>=1.4.7->cdsapi->-r requirements.txt (line 13)) (0.3.2)\n",
      "Requirement already satisfied: charset-normalizer<4,>=2 in /usr/local/lib/python3.10/dist-packages (from requests->pydap==3.4.0->-r requirements.txt (line 7)) (3.4.0)\n",
      "Requirement already satisfied: idna<4,>=2.5 in /usr/local/lib/python3.10/dist-packages (from requests->pydap==3.4.0->-r requirements.txt (line 7)) (3.10)\n",
      "Requirement already satisfied: urllib3<3,>=1.21.1 in /usr/local/lib/python3.10/dist-packages (from requests->pydap==3.4.0->-r requirements.txt (line 7)) (2.2.3)\n",
      "Requirement already satisfied: certifi>=2017.4.17 in /usr/local/lib/python3.10/dist-packages (from requests->pydap==3.4.0->-r requirements.txt (line 7)) (2024.8.30)\n",
      "Requirement already satisfied: soupsieve>1.2 in /usr/local/lib/python3.10/dist-packages (from beautifulsoup4->pydap==3.4.0->-r requirements.txt (line 7)) (2.6)\n",
      "Requirement already satisfied: MarkupSafe>=2.0 in /usr/local/lib/python3.10/dist-packages (from Jinja2->pydap==3.4.0->-r requirements.txt (line 7)) (3.0.2)\n",
      "Requirement already satisfied: hvplot in /usr/local/lib/python3.10/dist-packages (0.11.1)\n",
      "Requirement already satisfied: bokeh>=3.1 in /usr/local/lib/python3.10/dist-packages (from hvplot) (3.4.3)\n",
      "Requirement already satisfied: colorcet>=2 in /usr/local/lib/python3.10/dist-packages (from hvplot) (3.1.0)\n",
      "Requirement already satisfied: holoviews>=1.19.0 in /usr/local/lib/python3.10/dist-packages (from hvplot) (1.19.1)\n",
      "Requirement already satisfied: numpy>=1.21 in /usr/local/lib/python3.10/dist-packages (from hvplot) (1.26.4)\n",
      "Requirement already satisfied: packaging in /usr/local/lib/python3.10/dist-packages (from hvplot) (24.1)\n",
      "Requirement already satisfied: pandas>=1.3 in /usr/local/lib/python3.10/dist-packages (from hvplot) (2.2.2)\n",
      "Requirement already satisfied: panel>=1.0 in /usr/local/lib/python3.10/dist-packages (from hvplot) (1.4.5)\n",
      "Requirement already satisfied: param<3.0,>=1.12.0 in /usr/local/lib/python3.10/dist-packages (from hvplot) (2.1.1)\n",
      "Requirement already satisfied: Jinja2>=2.9 in /usr/local/lib/python3.10/dist-packages (from bokeh>=3.1->hvplot) (3.1.4)\n",
      "Requirement already satisfied: contourpy>=1.2 in /usr/local/lib/python3.10/dist-packages (from bokeh>=3.1->hvplot) (1.3.0)\n",
      "Requirement already satisfied: pillow>=7.1.0 in /usr/local/lib/python3.10/dist-packages (from bokeh>=3.1->hvplot) (10.4.0)\n",
      "Requirement already satisfied: PyYAML>=3.10 in /usr/local/lib/python3.10/dist-packages (from bokeh>=3.1->hvplot) (6.0.2)\n",
      "Requirement already satisfied: tornado>=6.2 in /usr/local/lib/python3.10/dist-packages (from bokeh>=3.1->hvplot) (6.3.3)\n",
      "Requirement already satisfied: xyzservices>=2021.09.1 in /usr/local/lib/python3.10/dist-packages (from bokeh>=3.1->hvplot) (2024.9.0)\n",
      "Requirement already satisfied: pyviz-comms>=2.1 in /usr/local/lib/python3.10/dist-packages (from holoviews>=1.19.0->hvplot) (3.0.3)\n",
      "Requirement already satisfied: python-dateutil>=2.8.2 in /usr/local/lib/python3.10/dist-packages (from pandas>=1.3->hvplot) (2.8.2)\n",
      "Requirement already satisfied: pytz>=2020.1 in /usr/local/lib/python3.10/dist-packages (from pandas>=1.3->hvplot) (2024.2)\n",
      "Requirement already satisfied: tzdata>=2022.7 in /usr/local/lib/python3.10/dist-packages (from pandas>=1.3->hvplot) (2024.2)\n",
      "Requirement already satisfied: markdown in /usr/local/lib/python3.10/dist-packages (from panel>=1.0->hvplot) (3.7)\n",
      "Requirement already satisfied: markdown-it-py in /usr/local/lib/python3.10/dist-packages (from panel>=1.0->hvplot) (3.0.0)\n",
      "Requirement already satisfied: linkify-it-py in /usr/local/lib/python3.10/dist-packages (from panel>=1.0->hvplot) (2.0.3)\n",
      "Requirement already satisfied: mdit-py-plugins in /usr/local/lib/python3.10/dist-packages (from panel>=1.0->hvplot) (0.4.2)\n",
      "Requirement already satisfied: requests in /usr/local/lib/python3.10/dist-packages (from panel>=1.0->hvplot) (2.32.3)\n",
      "Requirement already satisfied: tqdm>=4.48.0 in /usr/local/lib/python3.10/dist-packages (from panel>=1.0->hvplot) (4.66.6)\n",
      "Requirement already satisfied: bleach in /usr/local/lib/python3.10/dist-packages (from panel>=1.0->hvplot) (6.2.0)\n",
      "Requirement already satisfied: typing-extensions in /usr/local/lib/python3.10/dist-packages (from panel>=1.0->hvplot) (4.12.2)\n",
      "Requirement already satisfied: MarkupSafe>=2.0 in /usr/local/lib/python3.10/dist-packages (from Jinja2>=2.9->bokeh>=3.1->hvplot) (3.0.2)\n",
      "Requirement already satisfied: six>=1.5 in /usr/local/lib/python3.10/dist-packages (from python-dateutil>=2.8.2->pandas>=1.3->hvplot) (1.16.0)\n",
      "Requirement already satisfied: webencodings in /usr/local/lib/python3.10/dist-packages (from bleach->panel>=1.0->hvplot) (0.5.1)\n",
      "Requirement already satisfied: uc-micro-py in /usr/local/lib/python3.10/dist-packages (from linkify-it-py->panel>=1.0->hvplot) (1.0.3)\n",
      "Requirement already satisfied: mdurl~=0.1 in /usr/local/lib/python3.10/dist-packages (from markdown-it-py->panel>=1.0->hvplot) (0.1.2)\n",
      "Requirement already satisfied: charset-normalizer<4,>=2 in /usr/local/lib/python3.10/dist-packages (from requests->panel>=1.0->hvplot) (3.4.0)\n",
      "Requirement already satisfied: idna<4,>=2.5 in /usr/local/lib/python3.10/dist-packages (from requests->panel>=1.0->hvplot) (3.10)\n",
      "Requirement already satisfied: urllib3<3,>=1.21.1 in /usr/local/lib/python3.10/dist-packages (from requests->panel>=1.0->hvplot) (2.2.3)\n",
      "Requirement already satisfied: certifi>=2017.4.17 in /usr/local/lib/python3.10/dist-packages (from requests->panel>=1.0->hvplot) (2024.8.30)\n"
     ]
    }
   ],
   "source": [
    "# install the environment\n",
    "%cd /content/AI_global_forecast_model_for_education/FCNV2_for_copy\n",
    "!pip install --upgrade pip\n",
    "!pip install -r requirements.txt\n",
    "!pip install hvplot"
   ]
  },
  {
   "cell_type": "markdown",
   "metadata": {
    "id": "RP1n7MWGD4aq"
   },
   "source": [
    "## 下載initial 資料\n",
    "#### 此次選用NCEP GFS的初始場 (僅有過去10天時間資料)"
   ]
  },
  {
   "cell_type": "code",
   "execution_count": null,
   "metadata": {
    "colab": {
     "base_uri": "https://localhost:8080/"
    },
    "executionInfo": {
     "elapsed": 32190,
     "status": "ok",
     "timestamp": 1731404546190,
     "user": {
      "displayName": "鄭詠云",
      "userId": "03334864596938679832"
     },
     "user_tz": -480
    },
    "id": "0JZajNBR0B_C",
    "outputId": "4d00e4f5-a288-48bc-d8e2-51ec63acfcc2"
   },
   "outputs": [
    {
     "name": "stdout",
     "output_type": "stream",
     "text": [
      "/content/AI_global_forecast_model_for_education/FCNV2_for_copy\n",
      "http://nomads.ncep.noaa.gov:80/dods/gfs_0p25/gfs20241110/gfs_0p25_00z\n",
      "/usr/local/lib/python3.10/dist-packages/xarray/coding/times.py:187: SerializationWarning: Ambiguous reference date string: 1-1-1 00:00:0.0. The first value is assumed to be the year hence will be padded with zeros to remove the ambiguity (the padded reference date string is: 0001-1-1 00:00:0.0). To remove this message, remove the ambiguity by padding your reference date strings with zeros.\n",
      "  ref_date = _ensure_padded_year(ref_date)\n",
      "Done\n"
     ]
    }
   ],
   "source": [
    "# download the initial condition\n",
    "%cd /content/AI_global_forecast_model_for_education/FCNV2_for_copy\n",
    "!python download_ncep.py --scheduled-time 2024111000"
   ]
  },
  {
   "cell_type": "markdown",
   "metadata": {
    "id": "2Ub4pkU-Y9yk"
   },
   "source": [
    "## FCNV2資料展示"
   ]
  },
  {
   "cell_type": "code",
   "execution_count": null,
   "metadata": {
    "colab": {
     "base_uri": "https://localhost:8080/",
     "height": 327,
     "output_embedded_package_id": "1x4_6mva6ZbkuT0vuxTSK8Rk1Yl-ynaG-"
    },
    "executionInfo": {
     "elapsed": 19371,
     "status": "ok",
     "timestamp": 1731404565557,
     "user": {
      "displayName": "鄭詠云",
      "userId": "03334864596938679832"
     },
     "user_tz": -480
    },
    "id": "oBHu_O6qZC1w",
    "outputId": "19d97511-545d-4c2c-a771-58b18fda2c9e"
   },
   "outputs": [
    {
     "data": {
      "text/plain": [
       "Output hidden; open in https://colab.research.google.com to view."
      ]
     },
     "metadata": {},
     "output_type": "display_data"
    }
   ],
   "source": [
    "import hvplot.xarray\n",
    "import numpy as np\n",
    "import xarray as xr\n",
    "IC_data = np.load('/content/AI_global_forecast_model_for_education/FCNV2_for_copy/input_data/inital_condition.npy')\n",
    "IC_flip = np.flip(IC_data, axis=1)\n",
    "# variables order (73 variables)\n",
    "ordering = [ \"10u\",  \"10v\", \"100u\", \"100v\",  \"2t\",  \"sp\",  \"msl\", \"tcwv\",\n",
    "        \"u50\",  \"u100\", \"u150\", \"u200\", \"u250\", \"u300\", \"u400\", \"u500\", \"u600\", \"u700\", \"u850\", \"u925\", \"u1000\",\n",
    "        \"v50\",  \"v100\", \"v150\", \"v200\", \"v250\", \"v300\", \"v400\", \"v500\", \"v600\", \"v700\", \"v850\", \"v925\", \"v1000\",\n",
    "        \"z50\",  \"z100\", \"z150\", \"z200\", \"z250\", \"z300\", \"z400\", \"z500\", \"z600\", \"z700\", \"z850\", \"z925\", \"z1000\",\n",
    "        \"t50\",  \"t100\", \"t150\", \"t200\", \"t250\", \"t300\", \"t400\", \"t500\", \"t600\", \"t700\", \"t850\", \"t925\", \"t1000\",\n",
    "        \"r50\",  \"r100\", \"r150\", \"r200\", \"r250\", \"r300\", \"r400\", \"r500\", \"r600\", \"r700\", \"r850\", \"r925\", \"r1000\"]\n",
    "index_ordering = 18\n",
    "\n",
    "# lon lat 850 hpa windspeed\n",
    "IC_for_plot = np.sqrt(IC_flip[index_ordering,:,:]**2+IC_flip[index_ordering+13,:,:]**2)\n",
    "data = xr.DataArray(IC_for_plot, dims=['lat', 'lon'], coords={'lat': np.linspace(-90, 90, 721), 'lon': np.linspace(0,359.75,1440)})\n",
    "plot = data.hvplot.image(x='lon', y='lat', cmap='jet', title='850 hpa wind speed')\n",
    "plot\n",
    "\n",
    "# lat_grid lon_grid windspeed\n",
    "IC_for_find = np.sqrt(IC_data[index_ordering,:,:]**2+IC_data[index_ordering+13,:,:]**2)\n",
    "data = xr.DataArray(IC_for_find, dims=['lat_grid', 'lon_grid'], coords={'lat_grid': np.linspace( 0, 720, 721), 'lon_grid': np.linspace(0,1439,1440)})\n",
    "plot = data.hvplot.image(x='lon_grid', y='lat_grid', cmap='rainbow', title='850 hpa wind speed')\n",
    "plot\n",
    "\n"
   ]
  },
  {
   "cell_type": "markdown",
   "metadata": {
    "id": "LQ_LPc9_n0vB"
   },
   "source": [
    "##### 改 TC 風速 (可跳過)"
   ]
  },
  {
   "cell_type": "code",
   "execution_count": null,
   "metadata": {
    "id": "ESkPxIHkn9Dz"
   },
   "outputs": [],
   "source": [
    "IC_data = np.load('/content/AI_global_forecast_model_for_education/FCNV2_for_copy/input_data/inital_condition.npy')\n",
    "IC_data_tmp = IC_data.copy()\n",
    "change_index = [i for i in range(8,34)]\n",
    "lat_min = 296-20\n",
    "lat_max = 296+20\n",
    "lon_min = 624-20\n",
    "lon_max = 624+20\n",
    "IC_data[change_index,lat_min:lat_max,lon_min:lon_max] = (IC_data_tmp[change_index,lat_min:lat_max,lon_min:lon_max])*2\n",
    "np.save('./input_data/inital_condition_double_wind.npy', IC_data.astype(np.float32))\n",
    "\n"
   ]
  },
  {
   "cell_type": "code",
   "execution_count": null,
   "metadata": {
    "colab": {
     "base_uri": "https://localhost:8080/",
     "height": 327,
     "output_embedded_package_id": "1u6q3d0W4D5fzvUtnRcsMur9HxU4zioCb"
    },
    "executionInfo": {
     "elapsed": 6614,
     "status": "ok",
     "timestamp": 1731405436193,
     "user": {
      "displayName": "鄭詠云",
      "userId": "03334864596938679832"
     },
     "user_tz": -480
    },
    "id": "AGKXA90fp_Dt",
    "outputId": "e55499c5-7f4c-4cc4-fbf4-d2a2a383e83f"
   },
   "outputs": [
    {
     "data": {
      "text/plain": [
       "Output hidden; open in https://colab.research.google.com to view."
      ]
     },
     "metadata": {},
     "output_type": "display_data"
    }
   ],
   "source": [
    "## check TC wind\n",
    "IC_data = np.load('/content/AI_global_forecast_model_for_education/FCNV2_for_copy/input_data/inital_condition_double_wind.npy')\n",
    "# lat_grid lon_grid windspeed\n",
    "IC_for_find = np.sqrt(IC_data[index_ordering,:,:]**2+IC_data[index_ordering+13,:,:]**2)\n",
    "data = xr.DataArray(IC_for_find, dims=['lat_grid', 'lon_grid'], coords={'lat_grid': np.linspace( 0, 720, 721), 'lon_grid': np.linspace(0,1439,1440)})\n",
    "plot = data.hvplot.image(x='lon_grid', y='lat_grid', cmap='rainbow', title='850 hpa wind speed')\n",
    "plot"
   ]
  },
  {
   "cell_type": "markdown",
   "metadata": {
    "id": "kfftZy14ENyw"
   },
   "source": [
    "## FCNV2預報\n",
    "#### 目前使用GPU，預報240小時(每6小時一報)"
   ]
  },
  {
   "cell_type": "code",
   "execution_count": null,
   "metadata": {
    "colab": {
     "base_uri": "https://localhost:8080/"
    },
    "executionInfo": {
     "elapsed": 112940,
     "status": "ok",
     "timestamp": 1731405628604,
     "user": {
      "displayName": "鄭詠云",
      "userId": "03334864596938679832"
     },
     "user_tz": -480
    },
    "id": "zCD66cBWzs40",
    "outputId": "34df1f36-0115-4fb9-c270-693c5a5c8e27"
   },
   "outputs": [
    {
     "name": "stdout",
     "output_type": "stream",
     "text": [
      "/content/AI_global_forecast_model_for_education/FCNV2_for_copy\n",
      "/content/AI_global_forecast_model_for_education/FCNV2_for_copy/modules/inference_helper.py:51: FutureWarning: You are using `torch.load` with `weights_only=False` (the current default value), which uses the default pickle module implicitly. It is possible to construct malicious pickle data which will execute arbitrary code during unpickling (See https://github.com/pytorch/pytorch/blob/main/SECURITY.md#untrusted-models for more details). In a future release, the default value for `weights_only` will be flipped to `True`. This limits the functions that could be executed during unpickling. Arbitrary objects will no longer be allowed to be loaded via this mode unless they are explicitly allowlisted by the user via `torch.serialization.add_safe_globals`. We recommend you start setting `weights_only=True` for any use case where you don't have full control of the loaded file. Please open an issue on GitHub for any issues related to this experimental feature.\n",
      "  checkpoint = torch.load(checkpoint_file, map_location=device)\n",
      "start predict\n",
      "/content/AI_global_forecast_model_for_education/FCNV2_for_copy/fourcastnetv2/layers.py:623: FutureWarning: `torch.cuda.amp.autocast(args...)` is deprecated. Please use `torch.amp.autocast('cuda', args...)` instead.\n",
      "  with amp.autocast(enabled=False):\n",
      "/content/AI_global_forecast_model_for_education/FCNV2_for_copy/fourcastnetv2/layers.py:632: FutureWarning: `torch.cuda.amp.autocast(args...)` is deprecated. Please use `torch.amp.autocast('cuda', args...)` instead.\n",
      "  with amp.autocast(enabled=False):\n",
      "finish 1 days\n",
      "finish 2 days\n",
      "finish 3 days\n",
      "finish 4 days\n",
      "finish 5 days\n",
      "Done\n"
     ]
    }
   ],
   "source": [
    "# FCNV2 predicting\n",
    "%cd /content/AI_global_forecast_model_for_education/FCNV2_for_copy\n",
    "!python main.py --input_data input_data/inital_condition.npy --output_folder output_data --fore_hr 120\n",
    "# !python main.py --input_data input_data/inital_condition.npy --output_folder output_data --fore_hr 120 --device cuda\n",
    "\n",
    "# !python main.py --input_data input_data/inital_condition_double_wind.npy --output_folder output_data_double_wind --fore_hr 120\n",
    "# !python main.py --input_data input_data/inital_condition_double_wind.npy --output_folder output_data_double_wind_v2 --fore_hr 120 --device cuda"
   ]
  },
  {
   "cell_type": "markdown",
   "metadata": {
    "id": "0H6LLuYOEhOe"
   },
   "source": [
    "## 預報完成後，查看結果\n",
    "#### 進入plot底下，把850hPa的風場畫出"
   ]
  },
  {
   "cell_type": "code",
   "execution_count": 1,
   "metadata": {
    "colab": {
     "base_uri": "https://localhost:8080/"
    },
    "executionInfo": {
     "elapsed": 80986,
     "status": "ok",
     "timestamp": 1731407156460,
     "user": {
      "displayName": "鄭詠云",
      "userId": "03334864596938679832"
     },
     "user_tz": -480
    },
    "id": "NhK1HWGW3yHV",
    "outputId": "0ca24b3c-5ee4-447d-f447-06de1e6e6d69"
   },
   "outputs": [
    {
     "name": "stdout",
     "output_type": "stream",
     "text": [
      "/content/AI_global_forecast_model_for_education/FCNV2_for_copy/plot\n",
      "files count: 21\n",
      "0\n",
      "1\n",
      "2\n",
      "3\n",
      "4\n",
      "5\n",
      "6\n",
      "7\n",
      "8\n",
      "9\n",
      "10\n",
      "11\n",
      "12\n",
      "13\n",
      "14\n",
      "15\n",
      "16\n",
      "17\n",
      "18\n",
      "19\n",
      "20\n"
     ]
    }
   ],
   "source": [
    "%cd /content/AI_global_forecast_model_for_education/FCNV2_for_copy/plot/\n",
    "# !python plot850.py\n",
    "!python plot850.py --data_source_file ../output_data --save_folder plot_figure"
   ]
  },
  {
   "cell_type": "markdown",
   "metadata": {
    "id": "NEd-d9XhExOe"
   },
   "source": [
    "## 放到google雲端中方便下載"
   ]
  },
  {
   "cell_type": "code",
   "execution_count": null,
   "metadata": {
    "colab": {
     "base_uri": "https://localhost:8080/"
    },
    "executionInfo": {
     "elapsed": 333,
     "status": "ok",
     "timestamp": 1731405702618,
     "user": {
      "displayName": "鄭詠云",
      "userId": "03334864596938679832"
     },
     "user_tz": -480
    },
    "id": "gN2IC0UBDdop",
    "outputId": "fd9d1a03-bad1-40e6-dd27-c63d5e9089e9"
   },
   "outputs": [
    {
     "name": "stdout",
     "output_type": "stream",
     "text": [
      "/content/AI_global_forecast_model_for_education/FCNV2_for_copy\n"
     ]
    }
   ],
   "source": [
    "%cd /content/AI_global_forecast_model_for_education/FCNV2_for_copy\n",
    "!cp -rf plot /content/drive/MyDrive/AI_global_model/"
   ]
  }
 ],
 "metadata": {
  "accelerator": "GPU",
  "colab": {
   "authorship_tag": "ABX9TyMZmnnFz0cBwwf8Ofh3zUGP",
   "gpuType": "T4",
   "provenance": []
  },
  "kernelspec": {
   "display_name": "Python (FCNV2)",
   "name": "fcnv2"
  }
 },
 "nbformat": 4,
 "nbformat_minor": 0
}
